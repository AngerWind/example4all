{
 "cells": [
  {
   "cell_type": "markdown",
   "metadata": {},
   "source": [
    "# 1. 异常处理机制"
   ]
  },
  {
   "cell_type": "code",
   "execution_count": 4,
   "metadata": {},
   "outputs": [
    {
     "name": "stdout",
     "output_type": "stream",
     "text": [
      "请输入第一个整数：32\n",
      "请输入第二个整数：27\n",
      "结果为： 1.1851851851851851\n"
     ]
    }
   ],
   "source": [
    "'''\n",
    "try正常执行后会执行else和finally\n",
    "try异常后会执行except和finally\n",
    "\n",
    "except后面写具体的异常类型, 也可以添加 as e 对异常进行捕获\n",
    "也可以不添加\n",
    "'''\n",
    "import traceback\n",
    "try:\n",
    "    a = int(input('请输入第一个整数：'))\n",
    "    b = int(input('请输入第二个整数：'))\n",
    "    res = a / b\n",
    "except ZeroDivisionError:\n",
    "    print('除数不可以为0')\n",
    "except ValueError:\n",
    "    print('不能将字符串转换为数字')\n",
    "except BaseException as e:\n",
    "    # 可以添加 as e捕获抛出的异常\n",
    "    print(e)\n",
    "except:\n",
    "    # 或者添加traceback模块, 对异常进行打印\n",
    "    traceback.print_exc()\n",
    "else:\n",
    "    print('结果为：', res)\n",
    "finally:\n",
    "    print('谢谢您的使用')"
   ]
  },
  {
   "cell_type": "markdown",
   "metadata": {},
   "source": [
    "# 2. 常见的异常类型"
   ]
  },
  {
   "cell_type": "code",
   "execution_count": 6,
   "metadata": {
    "pycharm": {
     "name": "#%%\n"
    }
   },
   "outputs": [],
   "source": [
    "# 1.除（或取模）零 所有数据类型\n",
    "# print(10/0)  # ZeroDivisionError\n",
    "\n",
    "# 2.序列中没有此索引\n",
    "lst = [11, 22, 33, 44]\n",
    "# print(lst[4])  # IndexError\n",
    "\n",
    "# 3.映射中没有这个键\n",
    "dic = {'name': '张三', 'age': 20}\n",
    "# print(dic['gender'])  # KeyError\n",
    "\n",
    "# 4.未声明/初始化对象（没有属性）\n",
    "# print(num)  # NameError\n",
    "\n",
    "# 5.语法错误\n",
    "# int a=20  # SyntaxError\n",
    "\n",
    "# 6.传入无效的参数\n",
    "# a = int('hello')  # ValueError\n"
   ]
  }
 ],
 "metadata": {
  "kernelspec": {
   "name": "pycharm-9e361861",
   "language": "python",
   "display_name": "PyCharm (Python-main)"
  },
  "language_info": {
   "codemirror_mode": {
    "name": "ipython",
    "version": 3
   },
   "file_extension": ".py",
   "mimetype": "text/x-python",
   "name": "python",
   "nbconvert_exporter": "python",
   "pygments_lexer": "ipython3",
   "version": "3.6.3"
  },
  "toc": {
   "base_numbering": 1,
   "nav_menu": {},
   "number_sections": false,
   "sideBar": true,
   "skip_h1_title": false,
   "title_cell": "Table of Contents",
   "title_sidebar": "Contents",
   "toc_cell": false,
   "toc_position": {
    "height": "calc(100% - 180px)",
    "left": "10px",
    "top": "150px",
    "width": "480px"
   },
   "toc_section_display": true,
   "toc_window_display": true
  }
 },
 "nbformat": 4,
 "nbformat_minor": 4
}