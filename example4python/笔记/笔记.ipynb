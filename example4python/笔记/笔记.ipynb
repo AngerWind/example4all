{
 "cells": [
  {
   "cell_type": "markdown",
   "metadata": {
    "collapsed": true,
    "pycharm": {
     "name": "#%% md\n"
    }
   },
   "source": [
    "# 1. __init__文件的作用\n",
    "\n",
    "__init__.py的主要作用是：\n",
    "\n",
    "1. Python中package的标识，不能删除\n",
    "2. 定义__all__用来模糊导入\n",
    "3. 编写Python代码(不建议在`__init__`中写python模块，尽量保证`__init__.py`简单）\n",
    "\n",
    "在导入一个包的时候, 实际上我们导入了他的`__init__`.py文件, 并且会执行该文件.\n",
    "如果A包没有`__init__`.py文件, 那么想要导入B模块的C方法, 需要使用以下语句\n",
    "~~~python\n",
    "from A.B import C\n",
    "~~~\n",
    "如果A有`__init__`.py文件的话, 可以在该文件中写\n",
    "~~~python\n",
    "from .B import C\n",
    "~~~\n",
    "那么导入的时候可以使用\n",
    "~~~python\n",
    "from A import C\n",
    "~~~\n",
    "\n",
    "其实上面还有一个隐形的约定, 即在`__init__.py`中导入的是可访问的, 没有导入的就是希望屏蔽掉的细节\n",
    "但是python没有对访问权的强制限制, 可能是使用这种约定俗成的方式\n",
    "\n",
    "在`__init__.py`中还可以定义一个`__all__`属性, 当我们使用模糊导入 导入包的时候\n",
    "~~~python\n",
    "from A import *\n",
    "~~~\n",
    "就是导入的`__all__`属性中的所有"
   ]
  }
 ],
 "metadata": {
  "kernelspec": {
   "display_name": "Python 3",
   "language": "python",
   "name": "python3"
  },
  "language_info": {
   "codemirror_mode": {
    "name": "ipython",
    "version": 2
   },
   "file_extension": ".py",
   "mimetype": "text/x-python",
   "name": "python",
   "nbconvert_exporter": "python",
   "pygments_lexer": "ipython2",
   "version": "2.7.6"
  }
 },
 "nbformat": 4,
 "nbformat_minor": 0
}