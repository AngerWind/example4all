{
 "cells": [
  {
   "cell_type": "markdown",
   "metadata": {},
   "source": [
    "# 1. 函数的创建和调用及参数传递"
   ]
  },
  {
   "cell_type": "code",
   "execution_count": 1,
   "metadata": {},
   "outputs": [
    {
     "name": "stdout",
     "output_type": "stream",
     "text": [
      "30\n",
      "30\n"
     ]
    }
   ],
   "source": [
    "def calc(a, b):  # a,b为形式参数，形参，形参的位置是在函数的定义处\n",
    "    c = a + b\n",
    "    return c\n",
    "result = calc(10, 20)  # 通过位置传递, 实参叫做位置实参\n",
    "res = calc(b=10, a=20)  # 通过名称传递, 实参叫做关键字实参\n"
   ]
  },
  {
   "cell_type": "markdown",
   "metadata": {},
   "source": [
    "# 2. 函数参数传递的内存分析"
   ]
  },
  {
   "cell_type": "code",
   "execution_count": 2,
   "metadata": {},
   "outputs": [
    {
     "name": "stdout",
     "output_type": "stream",
     "text": [
      "n1= 11\n",
      "n2= [22, 33, 44]\n",
      "arg1= 11\n",
      "arg2= [22, 33, 44]\n",
      "arg1= 100\n",
      "arg2= [22, 33, 44, 10]\n",
      "n1= 11\n",
      "n2= [22, 33, 44, 10]\n"
     ]
    },
    {
     "data": {
      "text/plain": [
       "'\\n在函数调用过程中，进行参数的传递\\n如果是不可变对象，在函数体的修改不会影响实参的值   arg1修改为100，不会影响n1的值\\n如果是可变对象，在函数体内的修改会影响实参的值   arg2的修改，增加10，会影响n2的值，列表是可变对象\\n'"
      ]
     },
     "execution_count": 2,
     "metadata": {},
     "output_type": "execute_result"
    }
   ],
   "source": [
    "# python中一切皆对象, 参数传递都是对引用的值传递\n",
    "def fun(arg1, arg2):\n",
    "    print('arg1=', arg1)\n",
    "    print('arg2=', arg2)\n",
    "    arg1 = 100\n",
    "    arg2.append(10)\n",
    "    print('arg1=', arg1)\n",
    "    print('arg2=', arg2)\n",
    "    # return\n",
    "\n",
    "\n",
    "n1 = 11\n",
    "n2 = [22, 33, 44]\n",
    "print('n1=', n1)\n",
    "print('n2=', n2)\n",
    "fun(n1, n2)  # 位置传参，arg为形参，n为实参，实参形参可以不同\n",
    "print('n1=', n1)\n",
    "print('n2=', n2)"
   ]
  },
  {
   "cell_type": "markdown",
   "metadata": {},
   "source": [
    "# 3. 函数返回值"
   ]
  },
  {
   "cell_type": "code",
   "execution_count": 1,
   "metadata": {},
   "outputs": [
    {
     "name": "stdout",
     "output_type": "stream",
     "text": [
      "([29, 23, 53, 55], [10, 34, 44]) <class 'tuple'>\n"
     ]
    }
   ],
   "source": [
    "# 如果返回值是一个直接返回, 如果是多个就组合成tuple返回\n",
    "def fun(num):\n",
    "    odd = []  # 存奇数\n",
    "    even = []  # 存偶数\n",
    "    for i in num:\n",
    "        if i % 2:\n",
    "            odd.append(i)\n",
    "        else:\n",
    "            even.append(i)\n",
    "    return odd, even\n",
    "\n",
    "\n",
    "# 函数的调用\n",
    "result = fun([10, 29, 34, 23, 44, 53, 55])\n",
    "# 结构返回回来的tuple\n",
    "odd, even = fun([10, 29, 34, 23, 44, 53, 55])\n",
    "print(result, type(result))"
   ]
  },
  {
   "cell_type": "markdown",
   "metadata": {},
   "source": [
    "# 4. 函数的参数定义"
   ]
  },
  {
   "cell_type": "code",
   "execution_count": 4,
   "metadata": {},
   "outputs": [
    {
     "name": "stdout",
     "output_type": "stream",
     "text": [
      "100 10\n",
      "20 30\n",
      "hello\thello\n",
      "(10,)\n",
      "(10, 20, 30)\n",
      "{'a': 10}\n",
      "{'a': 10, 'b': 20, 'c': 30}\n",
      "hello world java\n"
     ]
    }
   ],
   "source": [
    "'''\n",
    "函数参数可以设置默认值, 在函数调用的时候有默认值的参数可以不传\n",
    "'''\n",
    "# 默认值参数\n",
    "def fun1(a, b=10):  # b为默认值参数\n",
    "    print(a, b)\n",
    "\n",
    "fun1(100)  # 100给a，b用默认值\n",
    "fun1(20, 30)  # 30将替换默认值10\n",
    "\n",
    "print('hello', end='\\t')  # 默认end是换行\n",
    "print('hello')"
   ]
  },
  {
   "cell_type": "markdown",
   "source": [
    "# 5.个数可变的位置参数和关键字参数"
   ],
   "metadata": {
    "collapsed": false,
    "pycharm": {
     "name": "#%% md\n"
    }
   }
  },
  {
   "cell_type": "code",
   "execution_count": 2,
   "outputs": [
    {
     "name": "stdout",
     "output_type": "stream",
     "text": [
      "(10,) <class 'tuple'>\n",
      "(10, 20, 30) <class 'tuple'>\n",
      "{'a': 10} <class 'dict'>\n",
      "{'a': 10, 'b': 20, 'c': 30} <class 'dict'>\n"
     ]
    }
   ],
   "source": [
    "'''\n",
    "*args表示个数可变的位置参数, 和java中类似, 接收后是一个list\n",
    "**args表示个数可变的关键字参数, 在传参的时候必须指定参数的名称, 接收后是一个dict\n",
    "\n",
    "一个函数只能有一个可变的位置参数和一个可变的关键字参数\n",
    "当可变的位置参数和可变的关键字参数同时存在时, 位置参数要在前面\n",
    "'''\n",
    "\n",
    "def fun2(*args):\n",
    "    print(args, type(args))\n",
    "fun2(10) # tuple\n",
    "fun2(10, 20, 30) # tuple\n",
    "\n",
    "def fun(a, b, c):  # abc在函数定义处，是形式参数\n",
    "    print('a=', a)\n",
    "    print('b=', b)\n",
    "    print('c=', c)\n",
    "\n",
    "def fun3(**args):\n",
    "    print(args, type(args))\n",
    "fun3(a=10) #dict\n",
    "fun3(a=10, b=20, c=30)  # dict\n",
    "\n",
    "def func4(*args1, **args2):\n",
    "    pass\n",
    "\n",
    "def fun5(a, b, c):\n",
    "    print(a, b, c)\n",
    "lst = [11, 22, 33]\n",
    "fun5(*lst)  # 在函数调用时，将列表中的每个元素都转换为位置实参传入\n",
    "dic = {'a': 111, 'b': 222, 'c': 333}\n",
    "fun5(**dic)  # 在函数调用时，将字典中的键值对都转换为关键字实参传入"
   ],
   "metadata": {
    "collapsed": false,
    "pycharm": {
     "name": "#%%\n"
    }
   }
  },
  {
   "cell_type": "markdown",
   "source": [
    "# 6.强制位置参数和强制关键字参数"
   ],
   "metadata": {
    "collapsed": false,
    "pycharm": {
     "name": "#%% md\n"
    }
   }
  },
  {
   "cell_type": "code",
   "execution_count": null,
   "outputs": [],
   "source": [
    "'''\n",
    "这里的*没有语义, 单纯表示*后面的参数只能通过关键字传参\n",
    "/也没有语义, 只是表示/前面的参数只能使用位置参数\n",
    "下面这个函数ab只能使用位置参数\n",
    "cd位置参数和关键字参数都可以使用\n",
    "ef只能使用关键字参数\n",
    "'''\n",
    "def func6(a, b, /, c, d, *, e, f):\n",
    "    pass\n",
    "\n",
    "func6(10, 20, 20, d=100, e=100, f=99)"
   ],
   "metadata": {
    "collapsed": false,
    "pycharm": {
     "name": "#%%\n"
    }
   }
  },
  {
   "cell_type": "markdown",
   "metadata": {},
   "source": [
    "# 7. 变量的作用域"
   ]
  },
  {
   "cell_type": "code",
   "execution_count": 6,
   "metadata": {},
   "outputs": [
    {
     "name": "stdout",
     "output_type": "stream",
     "text": [
      "杨老师\n",
      "杨老师\n",
      "20\n",
      "20\n"
     ]
    }
   ],
   "source": [
    "def fun(a, b):\n",
    "    c = a * b  # c为局部变量，因为c在函数体内进行定义的变量，ab为函数的形参，作用范围也是函数内部，相当于局部变量\n",
    "    print(c)\n",
    "\n",
    "name = '杨老师'\n",
    "def fun2():\n",
    "    print(name)\n",
    "fun2()  # name的作用范围为函数的内部和外部都可以使用，称为全局变量\n",
    "\n",
    "\n",
    "def fun3():\n",
    "    global age  # 函数内部定义的变量，局部变量，局部变量可以使用global进行生命，这个变量实际上就变成了全局变量\n",
    "    age = 20\n",
    "    print(age)\n",
    "fun3()\n",
    "print(age)"
   ]
  },
  {
   "cell_type": "markdown",
   "metadata": {},
   "source": [
    "# 8. 递归函数"
   ]
  },
  {
   "cell_type": "code",
   "execution_count": 7,
   "metadata": {},
   "outputs": [
    {
     "name": "stdout",
     "output_type": "stream",
     "text": [
      "720\n"
     ]
    }
   ],
   "source": [
    "def fac(n):\n",
    "    if n == 1:\n",
    "        return 1\n",
    "    else:\n",
    "        res = n * fac(n-1)\n",
    "        return res\n",
    "\n",
    "\n",
    "print(fac(6))"
   ]
  },
  {
   "cell_type": "markdown",
   "metadata": {},
   "source": [
    "# 9. 斐波那契数列"
   ]
  },
  {
   "cell_type": "code",
   "execution_count": 8,
   "metadata": {},
   "outputs": [
    {
     "name": "stdout",
     "output_type": "stream",
     "text": [
      "8\n",
      "1\n",
      "1\n",
      "2\n",
      "3\n",
      "5\n",
      "8\n"
     ]
    }
   ],
   "source": [
    "def fib(n):\n",
    "    if n == 1:\n",
    "        return 1\n",
    "    elif n == 2:\n",
    "        return 1\n",
    "    else:\n",
    "        res = fib(n-1) + fib(n-2)\n",
    "        return res\n",
    "\n",
    "\n",
    "# 斐波那契数列第6位上的数字\n",
    "print(fib(6))\n",
    "\n",
    "\n",
    "# 输出这个数列前6位上的数字\n",
    "for i in range(1, 7):\n",
    "    print(fib(i))"
   ]
  },
  {
   "cell_type": "markdown",
   "source": [
    "# lambda表达式\n"
   ],
   "metadata": {
    "collapsed": false
   }
  }
 ],
 "metadata": {
  "kernelspec": {
   "name": "pycharm-9e361861",
   "language": "python",
   "display_name": "PyCharm (Python-main)"
  },
  "language_info": {
   "codemirror_mode": {
    "name": "ipython",
    "version": 3
   },
   "file_extension": ".py",
   "mimetype": "text/x-python",
   "name": "python",
   "nbconvert_exporter": "python",
   "pygments_lexer": "ipython3",
   "version": "3.6.3"
  },
  "toc": {
   "base_numbering": 1,
   "nav_menu": {},
   "number_sections": false,
   "sideBar": true,
   "skip_h1_title": false,
   "title_cell": "Table of Contents",
   "title_sidebar": "Contents",
   "toc_cell": false,
   "toc_position": {
    "height": "calc(100% - 180px)",
    "left": "10px",
    "top": "150px",
    "width": "480px"
   },
   "toc_section_display": true,
   "toc_window_display": true
  }
 },
 "nbformat": 4,
 "nbformat_minor": 4
}