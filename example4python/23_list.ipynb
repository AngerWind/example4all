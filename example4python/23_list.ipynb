{
 "cells": [
  {
   "cell_type": "markdown",
   "metadata": {},
   "source": [
    "# 1. 列表的特点\n",
    "1. 列表存储的是多个对象的引用(id)，每个对象有自己单独的id，type，value\n",
    "2. 列表可以存储多个不同类型的引用\n",
    "3. 列表有序, 可重复\n",
    "4. 通过索引获取列表中的元素, 正向索引从0开始, 负向索引从-1开始\n",
    "5. 根据需要动态分配和回收内存"
   ]
  },
  {
   "cell_type": "markdown",
   "metadata": {},
   "source": [
    "# 2. 列表对象创建"
   ]
  },
  {
   "cell_type": "code",
   "execution_count": 21,
   "metadata": {},
   "outputs": [],
   "source": [
    "lst1 = ['hello', 'world', 98]\n",
    "lst2 = list(['hello', 'world', 98])"
   ]
  },
  {
   "cell_type": "markdown",
   "source": [
    "# 3. 通过索引获取元素"
   ],
   "metadata": {
    "collapsed": false
   }
  },
  {
   "cell_type": "code",
   "execution_count": 22,
   "outputs": [
    {
     "name": "stdout",
     "output_type": "stream",
     "text": [
      "98\n",
      "hello\n"
     ]
    }
   ],
   "source": [
    "lst = ['hello', 'world', 98, 'hello', 'world', 234]\n",
    "# 获取索引为2的元素（正向索引从0到N-1）\n",
    "print(lst[2])\n",
    "# 获取索引为-3的元素（逆向索引从-N到-1）\n",
    "print(lst[-3])\n",
    "# 获取索引为10的元素（指定索引不存在，抛出异常）\n",
    "# print(lst[10])  # IndexError: list index out of range"
   ],
   "metadata": {
    "collapsed": false,
    "pycharm": {
     "name": "#%%\n"
    }
   }
  },
  {
   "cell_type": "markdown",
   "metadata": {},
   "source": [
    "# 4. 获取指定元素的索引"
   ]
  },
  {
   "cell_type": "code",
   "execution_count": 23,
   "metadata": {},
   "outputs": [
    {
     "name": "stdout",
     "output_type": "stream",
     "text": [
      "0\n",
      "0\n"
     ]
    }
   ],
   "source": [
    "lst = ['hello', 'world', 98, 'hello']\n",
    "print(lst.index('hello'))  # 找到多个元素只返回第一个元素的索引\n",
    "# print(list.index('Python'))  # 找不到报错\n",
    "print(lst.index('hello', 0, 4))  # 找第一个, 在指定的start和stop之间进行查找"
   ]
  },
  {
   "cell_type": "markdown",
   "metadata": {},
   "source": [
    "# 5. 切片操作\n",
    "语法: 列表名[start:stop:step]\n",
    "start默认为0, stop默认为最后的索引, step默认为1"
   ]
  },
  {
   "cell_type": "code",
   "execution_count": 24,
   "outputs": [
    {
     "name": "stdout",
     "output_type": "stream",
     "text": [
      "[20, 30, 40, 50, 60]\n",
      "[20, 30, 40, 50, 60]\n",
      "[20, 30, 40, 50, 60]\n",
      "[20, 40, 60]\n",
      "[10, 30, 50]\n",
      "[20, 40, 60, 80]\n",
      "[80, 70, 60, 50, 40, 30, 20, 10]\n",
      "[80, 70, 60, 50, 40, 30, 20, 10]\n",
      "[70, 50, 30]\n"
     ]
    }
   ],
   "source": [
    "lst = [10, 20, 30, 40, 50, 60, 70, 80]\n",
    "print(lst[1:6:1])\n",
    "print(lst[1:6])  # 默认步长为1\n",
    "print(lst[1:6:])  # 默认步长为1\n",
    "# start=1,stop=6,step=2\n",
    "print(lst[1:6:2])\n",
    "# stop=6,step=2,start采用默认,0\n",
    "print(lst[:6:2])\n",
    "# start=1,step=2,stop采用默认，最后一个元素N-1\n",
    "print(lst[1::2])\n",
    "\n",
    "# step为负数, 顺序翻转\n",
    "print(lst[::-1])\n",
    "# start=7,stop省略,step=-1\n",
    "print(lst[7::-1])\n",
    "# start=6,stop=0,step=-2\n",
    "print(lst[6:0:-2])\n",
    "# stop，start不能是负数"
   ],
   "metadata": {
    "collapsed": false,
    "pycharm": {
     "name": "#%%\n"
    }
   }
  },
  {
   "cell_type": "markdown",
   "metadata": {},
   "source": [
    "# 6. 列表元素判断及遍历"
   ]
  },
  {
   "cell_type": "code",
   "execution_count": 25,
   "metadata": {},
   "outputs": [
    {
     "name": "stdout",
     "output_type": "stream",
     "text": [
      "True\n",
      "True\n",
      "True\n",
      "False\n",
      "False\n",
      "True\n",
      "10\n",
      "20\n",
      "python\n",
      "hello\n"
     ]
    }
   ],
   "source": [
    "print('p' in 'python')\n",
    "print('k' not in 'python')\n",
    "\n",
    "lst = [10, 20, 'python', 'hello']\n",
    "# 判断\n",
    "print(10 in lst)\n",
    "print(100 in lst)\n",
    "print(10 not in lst)\n",
    "print(100 not in lst)\n",
    "# 遍历\n",
    "for item in lst:\n",
    "    print(item)"
   ]
  },
  {
   "cell_type": "markdown",
   "metadata": {},
   "source": [
    "# 7. 列表元素添加"
   ]
  },
  {
   "cell_type": "code",
   "execution_count": 33,
   "metadata": {},
   "outputs": [
    {
     "name": "stdout",
     "output_type": "stream",
     "text": [
      "[10, 20, 30, 100]\n",
      "[10, 20, 30, 100, 'hello', 'world']\n",
      "[10, 90, 20, 30, 100, 'hello', 'world']\n",
      "[10, True, False, 'hello']\n",
      "[10, True]\n"
     ]
    }
   ],
   "source": [
    "# 向列表末尾添加一个元素，标识相同，同一个列表对象\n",
    "lst = [10, 20, 30]\n",
    "lst.append(100)\n",
    "print(lst)\n",
    "\n",
    "# 列表扩展\n",
    "lst.extend(['hello', 'world'])  # 添加lst2每个元素分别添加到lst末尾\n",
    "print(lst)\n",
    "\n",
    "# 在指定位置插入元素\n",
    "lst.insert(1, 90)\n",
    "print(lst)\n",
    "\n",
    "# 使用片段替换掉指定位置的片段\n",
    "lst4 = [10, 20, 30]\n",
    "lst3 = [True, False, 'hello']\n",
    "lst4[1:] = lst3\n",
    "print(lst4)\n",
    "\n",
    "lst4[2:] = [] # 删除操作\n",
    "print(lst4)"
   ]
  },
  {
   "cell_type": "markdown",
   "metadata": {},
   "source": [
    "# 8. 列表元素删除"
   ]
  },
  {
   "cell_type": "code",
   "execution_count": 27,
   "metadata": {},
   "outputs": [
    {
     "name": "stdout",
     "output_type": "stream",
     "text": [
      "[10, 20, 40, 50, 60, 30]\n",
      "[10, 40, 50, 60, 30]\n",
      "[10, 40, 50, 60]\n",
      "[10, 60]\n",
      "[]\n"
     ]
    }
   ],
   "source": [
    "lst = [10, 20, 30, 40, 50, 60, 30]\n",
    "# 从列表中溢出一个元素，如果有重复元素只移除第一个元素\n",
    "lst.remove(30)\n",
    "print(lst)\n",
    "# lst.remove(100)  # ValueError: list.remove(x): x not in list\n",
    "\n",
    "# pop()根据索引移除元素\n",
    "lst.pop(1)\n",
    "print(lst)\n",
    "# lst.pop(5)  # IndexError: pop index out of range 指定的索引位置不存在，抛出异常\n",
    "lst.pop()  # 不写参数，默认删除最后一个元素\n",
    "print(lst)\n",
    "\n",
    "# 不产生新的列表对象，而是删除原列表中的内容（用空列表进行替代）\n",
    "lst[1:3] = []\n",
    "print(lst)\n",
    "\n",
    "# clear()清空列表元素\n",
    "lst.clear()\n",
    "print(lst)  # []\n",
    "\n",
    "# del删除列表对象\n",
    "del lst\n",
    "# print(lst)  # NameError: name 'lst' is not defined"
   ]
  },
  {
   "cell_type": "markdown",
   "metadata": {},
   "source": [
    "# 10. 列表元素修改"
   ]
  },
  {
   "cell_type": "code",
   "execution_count": 34,
   "metadata": {},
   "outputs": [
    {
     "name": "stdout",
     "output_type": "stream",
     "text": [
      "[10, 20, 100, 40]\n",
      "[10, 300, 400, 500, 600, 40]\n"
     ]
    }
   ],
   "source": [
    "lst = [10, 20, 30, 40]\n",
    "# 一次修改一个值\n",
    "lst[2] = 100\n",
    "print(lst)\n",
    "\n",
    "# 片段替换\n",
    "lst[1:3] = [300, 400, 500, 600]\n",
    "print(lst)"
   ]
  },
  {
   "cell_type": "markdown",
   "metadata": {},
   "source": [
    "# 11. 列表元素排序"
   ]
  },
  {
   "cell_type": "code",
   "execution_count": 36,
   "metadata": {
    "pycharm": {
     "name": "#%%\n"
    }
   },
   "outputs": [
    {
     "name": "stdout",
     "output_type": "stream",
     "text": [
      "[10, 20, 40, 54, 98]\n",
      "[98, 54, 40, 20, 10]\n",
      "[10, 20, 40, 54, 98]\n",
      "[10, 20, 40, 54, 98] [20, 40, 10, 98, 54]\n",
      "[98, 54, 40, 20, 10]\n"
     ]
    }
   ],
   "source": [
    "lst = [20, 40, 10, 98, 54]\n",
    "# 开始排序，调用列表对象的sort方法，升序排序\n",
    "lst.sort()\n",
    "print(lst)  # 标识未更改，在原列表上进行的排序\n",
    "\n",
    "# reverse=True 表示降序排序\n",
    "lst.sort(reverse=True)\n",
    "print(lst)\n",
    "# reverse=False 表示升序排序\n",
    "lst.sort(reverse=False)\n",
    "print(lst)\n",
    "\n",
    "# 使用内置函数sorted()对列表进行排序，将产生一个新的列表对象，原列表不发生改变\n",
    "lst = [20, 40, 10, 98, 54]\n",
    "# 开始排序\n",
    "new_lst = sorted(lst)  # 产生新的列表对象\n",
    "print(new_lst, lst)\n",
    "# 指定关键字参数，实现列表元素降序排序\n",
    "desc_lst = sorted(lst, reverse=True)\n",
    "print(desc_lst)"
   ]
  }
 ],
 "metadata": {
  "kernelspec": {
   "name": "pycharm-9e361861",
   "language": "python",
   "display_name": "PyCharm (Python-main)"
  },
  "language_info": {
   "codemirror_mode": {
    "name": "ipython",
    "version": 3
   },
   "file_extension": ".py",
   "mimetype": "text/x-python",
   "name": "python",
   "nbconvert_exporter": "python",
   "pygments_lexer": "ipython3",
   "version": "3.6.3"
  },
  "toc": {
   "base_numbering": 1,
   "nav_menu": {},
   "number_sections": false,
   "sideBar": true,
   "skip_h1_title": false,
   "title_cell": "Table of Contents",
   "title_sidebar": "Contents",
   "toc_cell": false,
   "toc_position": {
    "height": "calc(100% - 180px)",
    "left": "10px",
    "top": "150px",
    "width": "480px"
   },
   "toc_section_display": true,
   "toc_window_display": true
  }
 },
 "nbformat": 4,
 "nbformat_minor": 4
}