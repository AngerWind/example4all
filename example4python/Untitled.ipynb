{
 "cells": [
  {
   "cell_type": "markdown",
   "id": "adbebf13",
   "metadata": {},
   "source": [
    "# Python环境配置\n",
    "\n",
    "## 安装Python解释器\n",
    "1. 双击安装包\n",
    "2. 选择 安装方式(可以默认安装, 可以自定义)\n",
    "\n",
    "   不要忘了 勾选 `添加path环境变量`\n",
    "   \n",
    "   path 环境变量: 将一个软件或者程序添加到 path 环境变量之后, 就可以使用终端(cmd) 在任意路径下使用 这个软件(如果没有环境变量,只能在安装目录使用)\n",
    "\n",
    "\n",
    "## PyCharm创建项目\n",
    "\n",
    "pycharm 组织代码的方式是 项目(project), 简单的理解为一个目录, 目录中可以放很多的代码\n",
    "\n",
    "每次在创建项目的时候, 需要保证这个目录是一个空目录\n",
    "\n",
    "1. 双击打开 `pycharm` 软件\n",
    "\n",
    "2. 创建新 项目\n",
    "\n",
    "   ![image-20210620101323184](assets/image-20210620101323184.png)\n",
    "\n",
    "3. 配置项目的路径和解释器\n",
    "\n",
    "   ![image-20210620101938918](assets/image-20210620101938918.png)\n",
    "\n",
    "4. 创建代码文件书写代码\n",
    "\n",
    "   1. 将来在工作中, 代码的文件名字不要使用中文,但目前学习阶段,我会使用中文\n",
    "\n",
    "   2. Python 文件的后缀是 .py\n",
    "\n",
    "   3. 代码要顶格书写\n",
    "\n",
    "   4. 代码中的标点符号要使用英文状态的标点\n",
    "\n",
    "   ![image-20210620102208125](assets/image-20210620102208125.png)\n",
    "\n",
    "   ![image-20210620102246367](assets/image-20210620102246367.png)\n",
    "\n",
    "5. 运行代码文件\n",
    "\n",
    "   ![image-20210620102426798](assets/image-20210620102426798.png)\n",
    "\n",
    "6. 查看运行结果\n",
    "\n",
    "   ![image-20210620102555732](assets/image-20210620102555732.png)\n"
   ]
  },
  {
   "cell_type": "markdown",
   "id": "9cb8a520",
   "metadata": {},
   "source": [
    "# 注释\n",
    "\n",
    "\n",
    "1. 注释是对代码解释说明的文字, 不会执行, 可以增加代码的可读性\n",
    "\n",
    "2. Python 中的注释分为两种, 单行注释和多行注释\n",
    "\n",
    "* 单行注释\n",
    "\n",
    "  使用`#`进行注释\n",
    "\n",
    "* 多行注释\n",
    "\n",
    "  三对单引号或者双引号\n",
    "\n",
    "  三对引号的注释,一般写在文件的最开始部分,或者文档注释处(函数)\n",
    "\n",
    "~~~python\n",
    "# 这是单行注释,代码不会执行\n",
    "\n",
    "\"\"\"\n",
    "使用三对双引号包括起来的内容 ,也是注释,\n",
    "可以换行, 不会执行\n",
    "\"\"\"\n",
    "~~~\n",
    "\n"
   ]
  },
  {
   "cell_type": "code",
   "execution_count": null,
   "id": "b9293c29",
   "metadata": {},
   "outputs": [],
   "source": []
  },
  {
   "cell_type": "code",
   "execution_count": null,
   "id": "67363a45",
   "metadata": {},
   "outputs": [],
   "source": []
  }
 ],
 "metadata": {
  "kernelspec": {
   "display_name": "Python 3 (ipykernel)",
   "language": "python",
   "name": "python3"
  },
  "language_info": {
   "codemirror_mode": {
    "name": "ipython",
    "version": 3
   },
   "file_extension": ".py",
   "mimetype": "text/x-python",
   "name": "python",
   "nbconvert_exporter": "python",
   "pygments_lexer": "ipython3",
   "version": "3.10.10"
  }
 },
 "nbformat": 4,
 "nbformat_minor": 5
}
