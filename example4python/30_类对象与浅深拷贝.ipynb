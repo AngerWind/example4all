{
 "cells": [
  {
   "cell_type": "markdown",
   "metadata": {},
   "source": [
    "# 1. 对象"
   ]
  },
  {
   "cell_type": "code",
   "execution_count": 2,
   "metadata": {},
   "outputs": [
    {
     "name": "stdout",
     "output_type": "stream",
     "text": [
      "1640922475440\n",
      "<class '__main__.Student'>\n",
      "jack20\n",
      "------------\n",
      "1640864101328\n",
      "<class 'type'>\n",
      "<class '__main__.Student'>\n",
      "学生在吃饭\n",
      "jack\n",
      "20\n",
      "学生在吃饭\n"
     ]
    }
   ],
   "source": [
    "# Student为类名，大驼峰命名\n",
    "# 属性和方法使用下划线连接\n",
    "# python不支持重载\n",
    "# python中没有接口\n",
    "class Student:\n",
    "\n",
    "    # 类属性, 类似java中的static属性\n",
    "    native_place = '吉林'\n",
    "\n",
    "    # 初始化方法, 构造方法, 必须写self, 可以添加其他参数\n",
    "    def __init__(self, name, age):\n",
    "        # 通过self创建实例属性并赋值\n",
    "        self.name = name\n",
    "        self.age = age\n",
    "\n",
    "        # 在前面添加__的方法或者属性表示为私有, 无法在外部调用(依旧可以通过其他方法访问)\n",
    "        self.__score = 100\n",
    "\n",
    "    # 实例方法, 必须添加self, self类似this\n",
    "    def eat(self):\n",
    "        print('学生在吃饭')\n",
    "\n",
    "    # 私有的实例方法, 前面添加两个下划线\n",
    "    def __grow_age(self):\n",
    "        self.age += 1\n",
    "\n",
    "    # 静态方法, 在静态方法中不能使用self\n",
    "    @staticmethod\n",
    "    def method():  # 不写self\n",
    "        print('我使用了静态方法')\n",
    "\n",
    "    # 类方法, 必须写cls, cls类似java中的Class\n",
    "    @classmethod\n",
    "    def cm(cls):\n",
    "        print('我使用了类方法')\n",
    "\n",
    "    # toString()\n",
    "    def __str__(self):\n",
    "        return self.name + str(self.age)\n",
    "    '''\n",
    "        用于显示对象在Python交互式解释器中的打印\n",
    "        如果仅重写了__repr__方法而没有重写__str__方法\n",
    "        那么打印的时候会使用__repr__, 如果同时实现__str__优先\n",
    "    '''\n",
    "    def __repr__(self):\n",
    "        return \"\"\n",
    "\n",
    "# 创建Student实例\n",
    "stu1 = Student('jack', 20)\n",
    "print(id(stu1))  # 实例对象\n",
    "print(type(stu1))\n",
    "print(stu1)\n",
    "print('------------')\n",
    "print(id(Student))  # 类对象\n",
    "print(type(Student))\n",
    "print(Student)\n",
    "\n",
    "\"\"\"\n",
    "调用实例对象的方法, 对象名.方法名()\n",
    "类名.方法名(类的对象)\n",
    "\"\"\"\n",
    "stu1.eat()\n",
    "Student.eat(stu1)\n",
    "\n",
    "# 调用实例属性\n",
    "print(stu1.name, stu1.age)\n",
    "\n",
    "# 调用类属性\n",
    "print(Student.native_place)\n",
    "\n",
    "# 调用静态方法\n",
    "Student.method()\n",
    "\n",
    "# 调用类方法\n",
    "Student.cm()\n",
    "\n",
    "# Student中的__score属性是私有的, 但是通过dir()函数可以看到Student中有一个_Student__age属性\n",
    "# 可以通过这个属性来强制访问这个__score这个私有的属性\n",
    "# 所以是否访问一个私有的属性需要靠程序员的自觉性\n",
    "dir(stu1)\n",
    "print(stu1._Student__score)\n",
    "\n",
    "# 给单个实例动态绑定属性\n",
    "stu2 = Student(\"zhangsan\", 189)\n",
    "stu2.gender = '女'\n",
    "\n",
    "# 给单个实例动态绑定方法\n",
    "def show():\n",
    "    print('定义在类之外的，称为函数')\n",
    "stu2.show = show"
   ]
  },
  {
   "cell_type": "markdown",
   "metadata": {},
   "source": [
    "# 2. 继承"
   ]
  },
  {
   "cell_type": "code",
   "execution_count": 6,
   "metadata": {},
   "outputs": [
    {
     "name": "stdout",
     "output_type": "stream",
     "text": [
      "张三 20\n",
      "李四 34\n"
     ]
    }
   ],
   "source": [
    "'''\n",
    "1. 如果一个类没有继承任何类, 则默认继承object\n",
    "2. python支持多继承\n",
    "3. 定义子类的时候, 必须在其构造函数中调用父类的构造函数\n",
    "'''\n",
    "class Person:\n",
    "    def __init__(self, name, age):\n",
    "        self.name = name\n",
    "        self.age = age\n",
    "\n",
    "    def info(self):\n",
    "        print(self.name, self.age)\n",
    "\n",
    "\n",
    "class Student(Person):\n",
    "    def __init__(self, name, age, stu_no):\n",
    "        # 调用父类的构造方法\n",
    "        super().__init__(name, age)\n",
    "        self.stu_no = stu_no\n",
    "\n",
    "\n",
    "class Teacher(Person):\n",
    "    def __init__(self, name, age, teach_year):\n",
    "        # 调用父类的构造方法\n",
    "        super().__init__(name, age)\n",
    "        self.teach_year = teach_year\n",
    "\n",
    "\n",
    "stu = Student('张三', 20, '1001')\n",
    "teacher = Teacher('李四', 34, 10)\n",
    "\n",
    "# 调用继承自父类的方法\n",
    "stu.info()\n",
    "teacher.info()"
   ]
  },
  {
   "cell_type": "markdown",
   "source": [
    "# 3. 多继承"
   ],
   "metadata": {
    "collapsed": false,
    "pycharm": {
     "name": "#%% md\n"
    }
   }
  },
  {
   "cell_type": "code",
   "execution_count": null,
   "outputs": [],
   "source": [
    "# 多继承\n",
    "class A(object):\n",
    "    pass\n",
    "class B(object):\n",
    "    pass\n",
    "class C(B, A):  # 两个父类，多继承\n",
    "    pass"
   ],
   "metadata": {
    "collapsed": false,
    "pycharm": {
     "name": "#%%\n"
    }
   }
  },
  {
   "cell_type": "markdown",
   "metadata": {},
   "source": [
    "# 4. 方法重写"
   ]
  },
  {
   "cell_type": "code",
   "execution_count": 7,
   "metadata": {},
   "outputs": [
    {
     "name": "stdout",
     "output_type": "stream",
     "text": [
      "张三 20\n",
      "1001\n",
      "李四 34\n",
      "10\n"
     ]
    }
   ],
   "source": [
    "class Person(object):\n",
    "    def info(self):\n",
    "        print(\"this is person\")\n",
    "\n",
    "class Student(Person):\n",
    "    # 重写父类的方法\n",
    "    def info(self):\n",
    "        # 通过super调用父类的方法\n",
    "        super().info()\n",
    "        print(self.stu_no)"
   ]
  },
  {
   "cell_type": "markdown",
   "metadata": {},
   "source": [
    "# 9. 多态"
   ]
  },
  {
   "cell_type": "code",
   "execution_count": 9,
   "metadata": {},
   "outputs": [
    {
     "name": "stdout",
     "output_type": "stream",
     "text": [
      "猫吃鱼\n",
      "狗吃肉\n",
      "动物会吃\n",
      "人吃五谷杂粮\n"
     ]
    },
    {
     "data": {
      "text/plain": [
       "'、\\n静态语言和动态语言关于多态的区别\\n继承\\n方法重写\\n父类引用指向子类对象\\n'"
      ]
     },
     "execution_count": 9,
     "metadata": {},
     "output_type": "execute_result"
    }
   ],
   "source": [
    "class Animal(object):\n",
    "    def eat(self):\n",
    "        print('动物会吃')\n",
    "class Dog(Animal):\n",
    "    def eat(self):\n",
    "        print('狗吃肉')\n",
    "class Person(object):\n",
    "    def eat(self):\n",
    "        print('人吃五谷杂粮')\n",
    "\n",
    "def fun(obj):\n",
    "    obj.eat()\n",
    "\n",
    "fun(Dog())\n",
    "fun(Animal())\n",
    "\"\"\"\n",
    "python中的多态崇尚鸭子类型, 即如果一直鸟走起来像鸭子, 游泳也像鸭子,\n",
    "那么他就是一个鸭子\n",
    "在鸭子类型中, 不需要关心对象的类型, 到底是不是鸭子, 只关心对象的行为\n",
    "\"\"\"\n",
    "fun(Person())"
   ]
  },
  {
   "cell_type": "markdown",
   "metadata": {},
   "source": [
    "# 10. 特殊属性"
   ]
  },
  {
   "cell_type": "code",
   "execution_count": 4,
   "metadata": {},
   "outputs": [
    {
     "name": "stdout",
     "output_type": "stream",
     "text": [
      "['__class__', '__delattr__', '__dir__', '__doc__', '__eq__', '__format__', '__ge__', '__getattribute__', '__gt__', '__hash__', '__init__', '__init_subclass__', '__le__', '__lt__', '__ne__', '__new__', '__reduce__', '__reduce_ex__', '__repr__', '__setattr__', '__sizeof__', '__str__', '__subclasshook__']\n",
      "{'name': 'Jack', 'age': 20}\n",
      "{'__module__': '__main__', '__init__': <function C.__init__ at 0x0000017E0EC81160>, '__doc__': None}\n",
      "<class '__main__.C'>\n",
      "(<class '__main__.A'>, <class '__main__.B'>)\n",
      "<class '__main__.A'>\n",
      "(<class '__main__.C'>, <class '__main__.A'>, <class '__main__.B'>, <class 'object'>)\n",
      "[<class '__main__.C'>]\n"
     ]
    }
   ],
   "source": [
    "print(dir(object))\n",
    "class A:\n",
    "    pass\n",
    "class B:\n",
    "    pass\n",
    "class C(A, B):\n",
    "    def __init__(self, name, age):\n",
    "        self.name = name\n",
    "        self.age = age\n",
    "\n",
    "x = C('Jack', 20)  # x是C的实例对象\n",
    "print(x.__dict__)  # 以字典的形式展示实例对象的属性和值 {'name': 'Jack', 'age': 20}\n",
    "print(C.__dict__)  # 以字典的形式，展示类对象的属性和方法字典 {'__module__': '__main__', '__init__': <function C.__init__ at 0x0000017E0EC81160>, '__doc__': None}\n",
    "print(x.__class__)  # 输出实例对象所属的类型  <class '__main__.C'>\n",
    "print(C.__bases__)  # 输出类对象的父类类型的元组  (<class '__main__.A'>, <class '__main__.B'>)\n",
    "print(C.__base__)  # 输出最近一个父类（基类）\n",
    "print(C.__mro__)  # 类的层次结构 (<class '__main__.C'>, <class '__main__.A'>, <class '__main__.B'>, <class 'object'>)\n",
    "print(A.__subclasses__())  # 子类列表，输出类对象的子类 [<class '__main__.C'>]"
   ]
  },
  {
   "cell_type": "markdown",
   "metadata": {},
   "source": [
    "# 11. 特殊方法"
   ]
  },
  {
   "cell_type": "code",
   "execution_count": 11,
   "metadata": {},
   "outputs": [
    {
     "name": "stdout",
     "output_type": "stream",
     "text": [
      "120\n",
      "120\n",
      "JackMike\n",
      "JackMike\n",
      "4\n",
      "4\n",
      "4\n"
     ]
    }
   ],
   "source": [
    "'''\n",
    "__dict__: 获得类对象或实例对象所绑定的所有属性和方法的字典\n",
    "__len__():当调用内存函数len()时, 就是调用对象的__len__()方法\n",
    "__add__():通过重写该方法，可使用自定义对象具有“+”功能\n",
    "'''\n",
    "\n",
    "a = 20\n",
    "b = 100\n",
    "print(a + b, a.__add__(b))\n",
    "\n",
    "\n",
    "class Student:\n",
    "    def __init__(self, name):\n",
    "        self.name = name\n",
    "    def __add__(self, other):\n",
    "        return self.name + other.name\n",
    "    def __len__(self):\n",
    "        return len(self.name)\n",
    "\n",
    "\n",
    "stu1 = Student('Jack')\n",
    "stu2 = Student('Mike')\n",
    "\n",
    "# __add__实现加法\n",
    "print(stu1 + stu2, stu1.__add__(stu2))\n",
    "# __len__实现对象的长度\n",
    "print(len([11, 22, 33, 44]))\n",
    "print(len(stu1))"
   ]
  },
  {
   "cell_type": "markdown",
   "metadata": {},
   "source": [
    "# 12. new和init"
   ]
  },
  {
   "cell_type": "code",
   "execution_count": 7,
   "metadata": {},
   "outputs": [
    {
     "name": "stdout",
     "output_type": "stream",
     "text": [
      "object这个类对象的id为：140734726331904\n",
      "Person这个类对象的id为：1640864091888\n",
      "__new__被调用执行了，cls的id值为1640864091888\n",
      "创建的对象的id为1640922382400\n",
      "__init__被调用执行了，self的id值为1640922382400\n",
      "p1这个Person类的实例对象的id为：1640922382400\n"
     ]
    }
   ],
   "source": [
    "'''\n",
    "__new__():用于创建对象\n",
    "__init__():对创建的对象进行初始化\n",
    "\n",
    "下面对象创建的过程\n",
    "1. 调用Person('张三', 20), 相当于调用了Person.__new__(Person)\n",
    "2. 在Person.__new__()中调用Object.__new__(Person)创建对象obj\n",
    "3. 调用obj.__init__()传入参数\n",
    "'''\n",
    "class Person:\n",
    "    def __new__(cls, *args, **kwargs):\n",
    "        print('__new__被调用执行了，cls的id值为{0}'.format(id(cls)))\n",
    "        obj = super().__new__(cls)\n",
    "        print('创建的对象的id为{0}'.format(id(obj)))\n",
    "        return obj\n",
    "\n",
    "    def __init__(self, name, age):\n",
    "        print('__init__被调用执行了，self的id值为{0}'.format(id(self)))\n",
    "        self.name = name\n",
    "        self.age = age\n",
    "\n",
    "\n",
    "print('object这个类对象的id为：{0}'.format(id(object)))\n",
    "print('Person这个类对象的id为：{0}'.format(id(Person)))\n",
    "\n",
    "# 创建Person类的实例对象\n",
    "p1 = Person('张三', 20)\n",
    "print(id(p1))"
   ]
  },
  {
   "cell_type": "markdown",
   "metadata": {},
   "source": [
    "# 13. 类的赋值与浅深拷贝"
   ]
  },
  {
   "cell_type": "code",
   "execution_count": 6,
   "metadata": {},
   "outputs": [
    {
     "name": "stdout",
     "output_type": "stream",
     "text": [
      "True\n",
      "False True True\n",
      "False False False\n"
     ]
    }
   ],
   "source": [
    "class CPU:\n",
    "    pass\n",
    "class Disk:\n",
    "    pass\n",
    "class Computer:\n",
    "    def __init__(self, cpu, disk):\n",
    "        self.cpu = cpu\n",
    "        self.disk = disk\n",
    "\n",
    "\n",
    "# 变量的赋值\n",
    "cpu1 = CPU()\n",
    "cpu2 = cpu1\n",
    "\n",
    "# 内存地址相同，同一个对象，放到两个地址中存储，形成两个变量\n",
    "print(cpu1 is cpu2)\n",
    "\n",
    "# 浅拷贝：一般都是浅拷贝，拷贝时，对象包含的子对象内容不拷贝，因此源对象与拷贝对象会引用同一个子对象\n",
    "import copy\n",
    "c1 = Computer(CPU(), Disk())\n",
    "c2 = copy.copy(c1)\n",
    "print(c1 is c2, c1.disk is c2.disk, c1.cpu is c2.cpu)\n",
    "\n",
    "\n",
    "# 深拷贝：使用copy模块的deepcopy函数，递归拷贝对象中包含的子对象，源对象和拷贝对象所有的子对象也不相同\n",
    "c1 = Computer(CPU(), Disk())\n",
    "c2 = copy.deepcopy(c1)\n",
    "print(c1 is c2, c1.disk is c2.disk, c1.cpu is c2.cpu)"
   ]
  }
 ],
 "metadata": {
  "kernelspec": {
   "name": "pycharm-9e361861",
   "language": "python",
   "display_name": "PyCharm (Python-main)"
  },
  "language_info": {
   "codemirror_mode": {
    "name": "ipython",
    "version": 3
   },
   "file_extension": ".py",
   "mimetype": "text/x-python",
   "name": "python",
   "nbconvert_exporter": "python",
   "pygments_lexer": "ipython3",
   "version": "3.6.3"
  },
  "toc": {
   "base_numbering": 1,
   "nav_menu": {},
   "number_sections": false,
   "sideBar": true,
   "skip_h1_title": false,
   "title_cell": "Table of Contents",
   "title_sidebar": "Contents",
   "toc_cell": false,
   "toc_position": {
    "height": "calc(100% - 180px)",
    "left": "10px",
    "top": "150px",
    "width": "480px"
   },
   "toc_section_display": true,
   "toc_window_display": true
  }
 },
 "nbformat": 4,
 "nbformat_minor": 4
}