{
 "cells": [
  {
   "cell_type": "markdown",
   "metadata": {},
   "source": [
    "# 1. 字符串的创建与驻留机制\n",
    "\n",
    "1. 字符串在python中是基本数据类型, 是一个不可变的字符序列\n",
    "2. 字符串的驻留机制\n",
    "    仅保存一份相同且不可变字符串的方法, 不同的值被存放在字符串的驻留池中\n",
    "    python的驻留机制对相同的字符串只保留一份拷贝, 后续创建相同的字符串时都不会开辟新空间\n",
    "    而是把该字符串的地址赋给新创建的变量\n",
    "3. 字符串可以使用单引号, 双引号, 三引号来定义"
   ]
  },
  {
   "cell_type": "code",
   "execution_count": 19,
   "metadata": {},
   "outputs": [
    {
     "name": "stdout",
     "output_type": "stream",
     "text": [
      "True True\n",
      "True True\n",
      "False\n",
      "True\n",
      "False\n"
     ]
    },
    {
     "data": {
      "text/plain": "'\\n字符串驻留机制的优缺点：\\n当需要相同的字符串时可以直接从字符串池中拿来使用，避免频繁的创建和销毁\\n在需要进行字符串拼接时建议使用str类型的join方法，而非+，因为join()方法是先计算出所有字符中的长度，然后再拷贝，只new一次对象，效率要比+效率高\\n'"
     },
     "execution_count": 19,
     "metadata": {},
     "output_type": "execute_result"
    }
   ],
   "source": [
    "# 字符串的驻留机制\n",
    "a = 'Python'\n",
    "b = \"Python\"\n",
    "c = '''Python'''\n",
    "print(id(a) == id(b), id(a) == id(c)) # 相同，三个对象在内存中只有一份\n",
    "print(a is b, b is c)\n",
    "\"\"\"\n",
    "字符串的驻留机制\n",
    "1.字符串的长度为0或1\n",
    "2.符合标识符的字符串(只含有字母,数字,下划线且长度不超过20个字符)\n",
    "3.[-5,256]之间的整数数字\n",
    "PS: 这里有个大坑, 就是其实常量池的范围还要视编译器而已，上面说的情况针对python对话框，\n",
    "但是pycharm、VScode较高级的IED中，大整数和较长、带有特殊字符的字符串都是有常量池的\n",
    "\n",
    "只有在编译器创建的字符串才会加入到常量池中, 而运行期创建的字符串总是开辟新空间\n",
    "\"\"\"\n",
    "# 使用对话框/jupyter  和 pycharm运行这段代码结果是不同的\n",
    "s1 = 'abc%'\n",
    "s2 = 'abc%'\n",
    "print(s1 is s2)\n",
    "\n",
    "# 字符串只在编译期进行驻留, 而非运行时\n",
    "# (只有在编译器才会将字符串加入到常量池中, 而在运行时创建的字符串不会被加入到常量池中)\n",
    "s3 = \"hello\" #编译期创建, 添加到常量池中\n",
    "s4 = \"hello\" #编译期创建, 添加到常量池中\n",
    "s5 = \"\".join(\"hello\") #运行期创建, 不会添加到常量池中\n",
    "print(s3 is s4) # true\n",
    "print(s3 is s5) # false\n",
    "\"\"\"\n",
    "字符串驻留机制的优缺点：\n",
    "当需要相同的字符串时可以直接从字符串池中拿来使用，避免频繁的创建和销毁\n",
    "在需要进行字符串拼接时建议使用str类型的join方法，而非+，因为join()方法是先计算出所有字符中的长度，然后再拷贝，只new一次对象，效率要比+效率高\n",
    "\"\"\""
   ]
  },
  {
   "cell_type": "markdown",
   "metadata": {},
   "source": [
    "# 2. 字符串的查询操作"
   ]
  },
  {
   "cell_type": "code",
   "execution_count": 2,
   "metadata": {},
   "outputs": [
    {
     "name": "stdout",
     "output_type": "stream",
     "text": [
      "3\n",
      "3\n",
      "9\n",
      "9\n",
      "-1\n",
      "-1\n"
     ]
    }
   ],
   "source": [
    "'''\n",
    "index: 查找子串第一次出现的位置, 找不到报错ValueError\n",
    "rindex: 查找子串最后一次出现的位置, 找不到报错ValueError\n",
    "find: 查找子串第一次出现的位置, 找不到返回-1\n",
    "rfind: 查找子串最后出现的位置, 找不到返回-1\n",
    "'''\n",
    "s = 'hello,hello'\n",
    "print(s.index('lo'))\n",
    "print(s.find('lo'))\n",
    "print(s.rindex('lo'))\n",
    "print(s.rfind('lo'))\n",
    "\n",
    "# print(s.index('k'))  # ValueError: substring not found\n",
    "print(s.find('k'))  # -1  不抛出异常\n",
    "# print(s.rindex('k'))  # ValueError: substring not found\n",
    "print(s.rfind('k'))  # -1  不抛出异常"
   ]
  },
  {
   "cell_type": "markdown",
   "metadata": {},
   "source": [
    "# 3. 字符串大小写转换"
   ]
  },
  {
   "cell_type": "code",
   "execution_count": 22,
   "metadata": {},
   "outputs": [
    {
     "name": "stdout",
     "output_type": "stream",
     "text": [
      "HELLO,PYTHON\n",
      "hello,python\n",
      "HELLO,pYTHON\n",
      "Hello,python\n",
      "Hello,Python\n"
     ]
    }
   ],
   "source": [
    "'''\n",
    "upper: 把所有字符串转换为大写字母\n",
    "lower: 把所有字符串转换为小写字母\n",
    "swapcase: 把字符串中大写转小写, 小写转大写\n",
    "capitalize: 把首字母转大写, 其他小写\n",
    "title: 把每个单词的首字母大写, 其他小写\n",
    "\n",
    "转换之后都会生成新的字符串(即使转换前后内容不变)\n",
    "'''\n",
    "\n",
    "s = 'hello,Python'\n",
    "print(s.upper())\n",
    "print(s.lower())\n",
    "print(s.swapcase())\n",
    "print(s.capitalize())\n",
    "print(s.title())"
   ]
  },
  {
   "cell_type": "markdown",
   "metadata": {},
   "source": [
    "# 4. 字符串内容对齐操作"
   ]
  },
  {
   "cell_type": "code",
   "execution_count": 4,
   "metadata": {},
   "outputs": [
    {
     "name": "stdout",
     "output_type": "stream",
     "text": [
      "****hello,Python****\n",
      "hello,Python\n",
      "hello,Python\n",
      "hello,Python        \n",
      "********hello,Python\n",
      "        hello,Python\n",
      "hello,Python\n",
      "00000000hello,Python\n",
      "hello,Python\n",
      "-0008910\n"
     ]
    }
   ],
   "source": [
    "'''\n",
    "center(): 居中对齐，第1个参数指定宽度，第2个参数指定填充符,第2个参数是可选的，\n",
    "        默认是空格,如果设置宽度小于实际宽度则则返回原字符串\n",
    "ljust (): 左对齐，第1个参数指定宽度，第2个参数指定填充符,第2个参数是可选的，\n",
    "        默认是空格如果设置宽度小于实际宽度则则返回原字符串\n",
    "rjust(): 右对齐,第1个参数指定宽度，第2个参数指定填充符,第2个参数是可选的，\n",
    "        默认是空格如果设置宽度小于实际宽度则则返回原字符串\n",
    "zfill( ): 右对齐，左边用0填充,该方法只接收一个参数，用于指定字符串的宽度，\n",
    "        如果指定的宽度小于等于字符串的长度，返回字符串本身\n",
    "\n",
    "\n",
    "\n",
    "'''\n",
    "s = 'hello,Python'\n",
    "\n",
    "print(s.center(20, '*'))  # 居中对齐，第一个参数是宽度，第二个参数是填充符，默认为空格\n",
    "\n",
    "print(s.ljust(10, '*'))  # 左对齐\n",
    "print(s.ljust(10))  # 宽度小于字符串，返回原字符串\n",
    "print(s.ljust(20))  # 填充符默认为空格\n",
    "\n",
    "print(s.rjust(20, '*'))  # 右对齐\n",
    "print(s.rjust(20))  # 填充符默认为空格\n",
    "print(s.rjust(10))  # 宽度小于字符串，返回原字符串\n",
    "\n",
    "# 右对齐，左边用0填充，只有一个参数\n",
    "print(s.zfill(20))\n",
    "print(s.zfill(10))  # 宽度小于字符串，返回原字符串\n",
    "print('-8910'.zfill(8))  # 0填在负号之后"
   ]
  },
  {
   "cell_type": "markdown",
   "metadata": {},
   "source": [
    "# 5. 字符串劈分操作"
   ]
  },
  {
   "cell_type": "code",
   "execution_count": 5,
   "metadata": {},
   "outputs": [
    {
     "name": "stdout",
     "output_type": "stream",
     "text": [
      "['hello', 'world', 'Python']\n",
      "['hello', 'world', 'Python']\n",
      "['hello', 'world|Python']\n",
      "['hello', 'world', 'Python']\n",
      "['hello', 'world', 'Python']\n",
      "['hello|world', 'Python']\n"
     ]
    }
   ],
   "source": [
    "'''\n",
    "\n",
    "split (): 从字符串的左边开始劈分，默认的劈分字符是空格字符串,返回的值都是一个列表\n",
    "        参数sep指定劈分字符串是的劈分符\n",
    "        参数maxsplit指定劈分字符串时的最大劈分次数，在经过最大次劈分之后，剩余的子串会单独做为一部分\n",
    "\n",
    "rsplit (): 从字符串的右边开始劈分，默认的劈分字符是空格字符串,返回的值都是一个列表\n",
    "        参数sep指定劈分字符串是的劈分符\n",
    "        参数maxsplit指定劈分字符串时的最大劈分次数，在经过最大次劈分之后，剩余的子串会单独做为一部分\n",
    "'''\n",
    "\n",
    "# 字符串的劈分操作，分割操作\n",
    "s = 'hello world Python'\n",
    "lst = s.split()  # 默认分隔符是空格，返回为列表类型\n",
    "print(lst)\n",
    "\n",
    "# 通过参数sep指定分隔符\n",
    "s1 = 'hello|world|Python'\n",
    "print(s1.split(sep='|'))\n",
    "\n",
    "# 通过参数maxsplit指定分隔符的最大分割次数，经过最大分割次数后，其余的子串单独作为一部分\n",
    "print(s1.split(sep='|', maxsplit=1))\n",
    "\n",
    "# 从右侧开始劈分rsplit\n",
    "print(s.rsplit())\n",
    "print(s1.rsplit(sep='|'))\n",
    "print(s1.rsplit(sep='|', maxsplit=1))  # 指定了最大分割次数后，左右分割就不一样了"
   ]
  },
  {
   "cell_type": "markdown",
   "metadata": {},
   "source": [
    "# 6. 字符串的判断"
   ]
  },
  {
   "cell_type": "code",
   "execution_count": 6,
   "metadata": {},
   "outputs": [
    {
     "name": "stdout",
     "output_type": "stream",
     "text": [
      "1. False\n",
      "2. True\n",
      "3. True\n",
      "4. True\n",
      "5. True\n",
      "6. True\n",
      "7. True\n",
      "8. False\n",
      "9. True\n",
      "10. False\n",
      "11. False\n",
      "12. True\n",
      "13. True\n",
      "14. True\n",
      "15. True\n",
      "16. True\n",
      "17. False\n"
     ]
    }
   ],
   "source": [
    "s = 'hello,Python'\n",
    "\n",
    "# 判断字符串是否合法\n",
    "print('1.', s.isidentifier())  # 合法：字母数字下划线\n",
    "print('2.', 'hello'.isidentifier())\n",
    "print('3.', '张三_'.isidentifier())\n",
    "print('4.', '张三_123'.isidentifier())\n",
    "\n",
    "# 判断字符串是否全部由空白字符组成（回车、换行、水平制表符）\n",
    "print('5.', '\\t'.isspace())\n",
    "\n",
    "# 判断字符串是否全部由字母组成\n",
    "print('6.', 'abc'.isalpha())\n",
    "print('7.', '张三'.isalpha())\n",
    "print('8.', '张三1'.isalpha())\n",
    "\n",
    "# 判断字符串是否全部由十进制的数字组成\n",
    "print('9.', '123'.isdecimal())\n",
    "print('10.', '123四'.isdecimal())\n",
    "print('11.', 'ⅡⅢⅣ'.isdecimal())\n",
    "\n",
    "# 判断字符串是否全部由数字组成\n",
    "print('12.', '123'.isnumeric())\n",
    "print('13.', '123四'.isnumeric())  # T\n",
    "print('14.', 'ⅡⅢⅣ'.isnumeric())  # T\n",
    "\n",
    "# 判断字符串是否全部由字母和数字组成\n",
    "print('15.', 'abc1'.isalnum())\n",
    "print('16.', '张三123'.isalnum())  # T\n",
    "print('17.', 'abc!'.isalnum())  # F"
   ]
  },
  {
   "cell_type": "markdown",
   "metadata": {},
   "source": [
    "# 7. 字符串的替换与合并"
   ]
  },
  {
   "cell_type": "code",
   "execution_count": 23,
   "metadata": {},
   "outputs": [
    {
     "name": "stdout",
     "output_type": "stream",
     "text": [
      "hello,Java\n",
      "hello,Java,Java,Python\n",
      "hello|Java|Python\n",
      "helloJavaPython\n",
      "helloJavaPython\n",
      "P*y*t*h*o*n\n"
     ]
    }
   ],
   "source": [
    "# 字符串的替换replace，第一个参数指定被替换的子串，第二个参数指定替换子串的字符串，该方法返回替换后得到的字符串，替换前字符串不发生变化，第三个参数指定最大替换次数\n",
    "s = 'hello,Python'\n",
    "print(s.replace('Python', 'Java')) # hello,Java\n",
    "s1 = 'hello,Python,Python,Python'\n",
    "print(s1.replace('Python', 'Java', 2)) # hello,Java,Java,Python\n",
    "\n",
    "# 字符串的合并，将列表或元组中的字符串合并成一个字符串\n",
    "lst = ['hello', 'Java', 'Python']\n",
    "print('|'.join(lst)) #hello|Java|Python\n",
    "print(''.join(lst)) #helloJavaPython\n",
    "\n",
    "t = ('hello', 'Java', 'Python')\n",
    "print(''.join(t)) #helloJavaPython\n",
    "\n",
    "print('*'.join('Python'))  # P*y*t*h*o*n 将Python作为字符串序列去进行连接"
   ]
  },
  {
   "cell_type": "markdown",
   "metadata": {},
   "source": [
    "# 8. 字符串的比较操作"
   ]
  },
  {
   "cell_type": "code",
   "execution_count": 8,
   "metadata": {},
   "outputs": [
    {
     "name": "stdout",
     "output_type": "stream",
     "text": [
      "True\n",
      "97 98\n",
      "False\n",
      "21016\n",
      "a b\n",
      "刘\n",
      "True\n",
      "True\n",
      "True\n",
      "True\n",
      "2367060057904\n",
      "2367060057904\n",
      "2367060057904\n"
     ]
    }
   ],
   "source": [
    "'''\n",
    ">, >=, <, <=, ==, !=\n",
    "先一个字符一个字符比较, 字符的比较是将字符通过ord()转换为十进制unicode码进行比较的\n",
    "\n",
    "ord(): 接收一个字符的字符串, 将其转换为十进制unicode码\n",
    "chr(): 将十进制unicode码转换为一个字符的字符串\n",
    "'''\n",
    "# 从前往后比较\n",
    "print('apple' > 'app')\n",
    "\n",
    "print(ord('a'), ord('b'))\n",
    "print('apple' > 'banana')  # 相当于97>98，False\n",
    "print(ord('刘'))\n",
    "\n",
    "# ord相反操作chr，获取字符\n",
    "print(chr(97), chr(98))\n",
    "print(chr(21016))\n",
    "\n",
    "\"\"\"\n",
    "== 与 is 的区别\n",
    "== 比较的是值\n",
    "is 比较的是id是否相等\n",
    "\"\"\"\n",
    "a = b = 'Python'\n",
    "c = 'Python'\n",
    "print(a == b)\n",
    "print(b == c)\n",
    "print(a is b)\n",
    "print(b is c)\n",
    "print(id(a))\n",
    "print(id(b))\n",
    "print(id(c))  # 指向同一个内存空间，字符串的驻留机制"
   ]
  },
  {
   "cell_type": "markdown",
   "metadata": {},
   "source": [
    "# 9. 字符串的切片操作"
   ]
  },
  {
   "cell_type": "code",
   "execution_count": 9,
   "metadata": {},
   "outputs": [
    {
     "name": "stdout",
     "output_type": "stream",
     "text": [
      "hello\n",
      "Python\n",
      "hello!Python\n",
      "2367137050544\n",
      "2367137078384\n",
      "2367137083760\n",
      "2367063240112\n",
      "2367137061872\n",
      "ello\n",
      "hloPto\n",
      "nohtyP,olleh\n",
      "Python\n"
     ]
    }
   ],
   "source": [
    "'''\n",
    "语法:    字符串名[start:end:step] 左闭右开\n",
    "    start默认为0, step默认为1, end默认最大索引+1\n",
    "    切片会生成新的字符串\n",
    "'''\n",
    "\n",
    "s = 'hello,Python'\n",
    "s1 = s[:5]  # 由于没有指定起始位置，从0开始切\n",
    "print(s1)\n",
    "s2 = s[6:]  # 指定起始位置未指定结束位置，切到结束\n",
    "print(s2)\n",
    "\n",
    "new_str = s1+ s2\n",
    "print(new_str)\n",
    "\n",
    "# 完整写法：[start:end:step]\n",
    "print(s[1:5:1])  # 从1开始切到5，不包括5，步长为1\n",
    "print(s[::2])  # 0246，步长为间隔，默认从开始到结束，步长为2\n",
    "print(s[::-1])  # 倒置，默认从字符串的最后一个到第一个，因为步长为负数\n",
    "print(s[-6::1])"
   ]
  },
  {
   "cell_type": "markdown",
   "metadata": {},
   "source": [
    "# 10. 格式化字符串"
   ]
  },
  {
   "cell_type": "code",
   "execution_count": 10,
   "metadata": {},
   "outputs": [
    {
     "name": "stdout",
     "output_type": "stream",
     "text": [
      "我叫张三，今年20岁\n",
      "我叫张三，今年20岁\n",
      "我叫张三，今年20岁\n",
      "99\n",
      "        99\n",
      "hellohello\n",
      "3.141593\n",
      "3.142\n",
      "     3.142\n",
      "hellohello\n",
      "3.1415926\n",
      "3.1415926\n",
      "3.14\n",
      "3.142\n",
      "3.142\n",
      "     3.142\n"
     ]
    }
   ],
   "source": [
    "# %占位符\n",
    "name = '张三'\n",
    "age = 20\n",
    "print('我叫%s，今年%d岁' % (name, age))\n",
    "\n",
    "# {}占位符\n",
    "print('我叫{0}，今年{1}岁'.format(name, age))\n",
    "\n",
    "# f-string\n",
    "print(f'我叫{name}，今年{age}岁')\n",
    "\n",
    "print('%d' % 99)\n",
    "print('%10d' % 99)  # 10为宽度\n",
    "print('hellohello')\n",
    "print('%f' % 3.1415926)\n",
    "print('%.3f' % 3.1415926)\n",
    "print('%10.3f' % 3.1415926)  # 同时表示宽度和精度，总宽度为10，小数点后3位\n",
    "print('hellohello')\n",
    "\n",
    "print('{}'.format(3.1415926))\n",
    "print('{0}'.format(3.1415926))  # 最好写上数字\n",
    "print('{0:.3}'.format(3.1415926))  # .3表示一共三位数字\n",
    "print('{0:.3f}'.format(3.1415926))  # .3f表示三位小数\n",
    "print('{:.3f}'.format(3.1415926))\n",
    "print('{:10.3f}'.format(3.1415926))  # 10表示宽度，.3f表示三位小数，同时表示宽度和精度"
   ]
  },
  {
   "cell_type": "markdown",
   "metadata": {},
   "source": [
    "# 11. 字符串的编码与解码"
   ]
  },
  {
   "cell_type": "code",
   "execution_count": 11,
   "metadata": {},
   "outputs": [
    {
     "name": "stdout",
     "output_type": "stream",
     "text": [
      "b'\\xcc\\xec\\xd1\\xc4\\xb9\\xb2\\xb4\\xcb\\xca\\xb1'\n",
      "b'\\xe5\\xa4\\xa9\\xe6\\xb6\\xaf\\xe5\\x85\\xb1\\xe6\\xad\\xa4\\xe6\\x97\\xb6'\n",
      "天涯共此时\n",
      "天涯共此时\n"
     ]
    }
   ],
   "source": [
    "\"\"\"\n",
    "为什么需要字符串的编码转换：str在内存中以unicode表示，从A计算机到B计算机，需要用byte字节传输\n",
    "编码：将字符串转换为二进制数据（bytes）\n",
    "解码：将bytes类型的数据转换为字符串类型\n",
    "\"\"\"\n",
    "s = '天涯共此时'\n",
    "# 编码\n",
    "print(s.encode(encoding='GBK'))  # 在GBK这种编码格式中，一个中文占两个字节\n",
    "print(s.encode(encoding='UTF-8'))  # 在UTF-8这种编码格式中，一个中文占三个字节\n",
    "\n",
    "# 解码\n",
    "# byte代表的是一个二进制数据（字节类型的数据）\n",
    "byte = s.encode(encoding='GBK')\n",
    "print(byte.decode(encoding='GBK'))  # 编码解码格式必须相同\n",
    "byte1 = s.encode(encoding='UTF-8')\n",
    "print(byte1.decode(encoding='UTF-8'))\n",
    "\n",
    "# 主要在爬虫中应用"
   ]
  }
 ],
 "metadata": {
  "kernelspec": {
   "name": "pycharm-9e361861",
   "language": "python",
   "display_name": "PyCharm (Python-main)"
  },
  "language_info": {
   "codemirror_mode": {
    "name": "ipython",
    "version": 3
   },
   "file_extension": ".py",
   "mimetype": "text/x-python",
   "name": "python",
   "nbconvert_exporter": "python",
   "pygments_lexer": "ipython3",
   "version": "3.6.3"
  },
  "toc": {
   "base_numbering": 1,
   "nav_menu": {},
   "number_sections": false,
   "sideBar": true,
   "skip_h1_title": false,
   "title_cell": "Table of Contents",
   "title_sidebar": "Contents",
   "toc_cell": false,
   "toc_position": {
    "height": "calc(100% - 180px)",
    "left": "10px",
    "top": "150px",
    "width": "480px"
   },
   "toc_section_display": true,
   "toc_window_display": true
  }
 },
 "nbformat": 4,
 "nbformat_minor": 4
}